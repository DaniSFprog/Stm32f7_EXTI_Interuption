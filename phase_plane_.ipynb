{
  "nbformat": 4,
  "nbformat_minor": 0,
  "metadata": {
    "colab": {
      "name": "phase plane .ipynb",
      "provenance": [],
      "authorship_tag": "ABX9TyO0bZ4gUk8Hmfk6vuEOgyBX",
      "include_colab_link": true
    },
    "kernelspec": {
      "name": "python3",
      "display_name": "Python 3"
    },
    "language_info": {
      "name": "python"
    }
  },
  "cells": [
    {
      "cell_type": "markdown",
      "metadata": {
        "id": "view-in-github",
        "colab_type": "text"
      },
      "source": [
        "<a href=\"https://colab.research.google.com/github/DaniSFprog/Stm32f7_EXTI_Interuption/blob/main/phase_plane_.ipynb\" target=\"_parent\"><img src=\"https://colab.research.google.com/assets/colab-badge.svg\" alt=\"Open In Colab\"/></a>"
      ]
    },
    {
      "cell_type": "code",
      "metadata": {
        "id": "ON1-6_16OuJk"
      },
      "source": [
        "import numpy as np\n",
        "import matplotlib.pyplot as plt\n",
        "import math\n",
        "def f1(t, x):\n",
        "    return (2/3 * x[0] - 4/3 * x[0]*x[1])\n",
        "\n",
        "def f2(t, x):\n",
        "    return (x[0] * x[1] - x[1])\n",
        "\n",
        "def f(t, x): # R x R2 --> R2\n",
        "    return (np.array([f1(t, x), f2(t, x)]))"
      ],
      "execution_count": null,
      "outputs": []
    },
    {
      "cell_type": "code",
      "metadata": {
        "id": "2gvsyh5eO2FN"
      },
      "source": [
        "def eulerModificadoM(f, t0, tn, x0, n):\n",
        "    t = np.linspace(t0,tn,n+1)\n",
        "    m = len(x0)\n",
        "    x = np.zeros((m, n+1))\n",
        "    x[:,0] =x0\n",
        "    h =(tn-t0)/n\n",
        "    for i in range(1,n+1):\n",
        "        x[:,i] = x[:,i-1]+h*f(t[i-1] + h/2, x[:,i-1] + h/2 * f(t[i-1], x[:,i-1]))            \n",
        "    return ((t,x))"
      ],
      "execution_count": null,
      "outputs": []
    },
    {
      "cell_type": "code",
      "metadata": {
        "id": "qpRO_ZSMO30a"
      },
      "source": [
        " for x0 in np.arange(0.5, 1.6, 0.1):\n",
        "  print(x0)\n",
        "  x = np.array([x0,x0])\n",
        "  (t, x) = eulerModificadoM(f, 0, 1, x, 1000)\n",
        "  plt.plot([x[0],x[1]]"
      ],
      "execution_count": null,
      "outputs": []
    },
    {
      "cell_type": "code",
      "metadata": {
        "id": "hHSw888NO5GX"
      },
      "source": [
        "for x0 in  np.arange(1, 1.5, 0.1):\n",
        " print(x0)\n",
        " x = np.array([x0,0.5])\n",
        " (t, x) = eulerModificadoM(f, 0, 1, x, 100)\n",
        " plt.plot([x[0],x[1]])"
      ],
      "execution_count": null,
      "outputs": []
    },
    {
      "cell_type": "code",
      "metadata": {
        "id": "HUTRytXLO7d5"
      },
      "source": [
        "def f(t, x):\n",
        "    (x1,x2) = x\n",
        "    ##return (np.array([2*x1 + x2, -2*x2]))\n",
        "    ## return(np.array([np.exp()(4*-t),np.exp(-t)]))\n",
        "    return (np.array([-x1, -x2]))\n",
        "for i in range(10):\n",
        "    x = np.random.rand(2) * 2 - 1\n",
        "    print(x)\n",
        "    (t, x) = eulerModificadoM(f, 0, 10, x, 1000)\n",
        "    plt.plot([x[0],x[1]])\n",
        "    plt.figure(figsize=(20,20) )\n",
        "dpi=100"
      ],
      "execution_count": null,
      "outputs": []
    }
  ]
}